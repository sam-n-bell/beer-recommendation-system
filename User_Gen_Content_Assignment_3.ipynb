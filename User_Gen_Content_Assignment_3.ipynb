{
  "nbformat": 4,
  "nbformat_minor": 0,
  "metadata": {
    "colab": {
      "name": "User Gen Content Assignment 3.ipynb",
      "provenance": [],
      "collapsed_sections": [],
      "toc_visible": true
    },
    "kernelspec": {
      "name": "python3",
      "display_name": "Python 3"
    }
  },
  "cells": [
    {
      "cell_type": "markdown",
      "metadata": {
        "id": "w91uABm6vN9l",
        "colab_type": "text"
      },
      "source": [
        "# Part A"
      ]
    },
    {
      "cell_type": "markdown",
      "metadata": {
        "id": "YZTwElEFzUJz",
        "colab_type": "text"
      },
      "source": [
        "# Group Members:\n",
        "Jackson Ross, Brian Smith-Eitches, Kelly Zhang, Sindhu Patnam, Sam Bell"
      ]
    },
    {
      "cell_type": "code",
      "metadata": {
        "id": "fKS9t_8Q6oDX",
        "colab_type": "code",
        "outputId": "4b3d25d8-4995-4c0a-cf4c-124672147018",
        "colab": {
          "base_uri": "https://localhost:8080/",
          "height": 1000
        }
      },
      "source": [
        "# Use this code if using Colab to run Selenium\n",
        "\n",
        "# Make sure to go to Runtime -> Change runtime type and select Python 3 as runtime type and GPU as hardware accelerator\n",
        "\n",
        "# !kill -9 -1 # Use this line to delete this VM and start a new one. \n",
        "# The above line deletes all files and folders from the current VM and allocates a new one.\n",
        "!apt-get update\n",
        "!pip install beautifulsoup4\n",
        "!pip install selenium\n",
        "# !apt-get -q update # to update ubuntu to correctly run apt install\n",
        "!apt install -yq chromium-chromedriver\n",
        "!cp /usr/lib/chromium-browser/chromedriver /usr/bin\n",
        "\n",
        "from selenium import webdriver\n",
        "from selenium.webdriver.support.ui import WebDriverWait\n",
        "from selenium.webdriver.support import expected_conditions as EC\n",
        "from selenium.webdriver.common.by import By\n",
        "from selenium.common.exceptions import TimeoutException, NoSuchElementException\n",
        "from bs4 import BeautifulSoup, Tag, NavigableString\n",
        "from selenium.webdriver.chrome.options import Options\n",
        "import csv\n",
        "import random\n",
        "import time\n",
        "import pandas as pd\n",
        "\n",
        "import sys\n",
        "sys.path.insert(0,'/usr/lib/chromium-browser/chromedriver')\n",
        "from selenium import webdriver"
      ],
      "execution_count": 0,
      "outputs": [
        {
          "output_type": "stream",
          "text": [
            "Get:1 http://security.ubuntu.com/ubuntu bionic-security InRelease [88.7 kB]\n",
            "Ign:2 https://developer.download.nvidia.com/compute/cuda/repos/ubuntu1804/x86_64  InRelease\n",
            "Hit:3 http://ppa.launchpad.net/graphics-drivers/ppa/ubuntu bionic InRelease\n",
            "Hit:4 http://archive.ubuntu.com/ubuntu bionic InRelease\n",
            "Ign:5 https://developer.download.nvidia.com/compute/machine-learning/repos/ubuntu1804/x86_64  InRelease\n",
            "Hit:6 https://developer.download.nvidia.com/compute/cuda/repos/ubuntu1804/x86_64  Release\n",
            "Hit:7 https://developer.download.nvidia.com/compute/machine-learning/repos/ubuntu1804/x86_64  Release\n",
            "Get:8 http://archive.ubuntu.com/ubuntu bionic-updates InRelease [88.7 kB]\n",
            "Get:9 http://ppa.launchpad.net/marutter/c2d4u3.5/ubuntu bionic InRelease [15.4 kB]\n",
            "Get:10 http://archive.ubuntu.com/ubuntu bionic-backports InRelease [74.6 kB]\n",
            "Get:13 http://ppa.launchpad.net/marutter/c2d4u3.5/ubuntu bionic/main Sources [1,718 kB]\n",
            "Get:14 https://cloud.r-project.org/bin/linux/ubuntu bionic-cran35/ InRelease [3,626 B]\n",
            "Get:15 http://security.ubuntu.com/ubuntu bionic-security/main amd64 Packages [700 kB]\n",
            "Get:16 http://archive.ubuntu.com/ubuntu bionic-updates/main amd64 Packages [995 kB]\n",
            "Get:17 https://cloud.r-project.org/bin/linux/ubuntu bionic-cran35/ Packages [73.5 kB]\n",
            "Get:18 http://ppa.launchpad.net/marutter/c2d4u3.5/ubuntu bionic/main amd64 Packages [827 kB]\n",
            "Get:19 http://security.ubuntu.com/ubuntu bionic-security/universe amd64 Packages [782 kB]\n",
            "Get:20 http://archive.ubuntu.com/ubuntu bionic-updates/universe amd64 Packages [1,303 kB]\n",
            "Fetched 6,670 kB in 3s (2,024 kB/s)\n",
            "Reading package lists... Done\n",
            "Requirement already satisfied: beautifulsoup4 in /usr/local/lib/python3.6/dist-packages (4.6.3)\n",
            "Collecting selenium\n",
            "\u001b[?25l  Downloading https://files.pythonhosted.org/packages/80/d6/4294f0b4bce4de0abf13e17190289f9d0613b0a44e5dd6a7f5ca98459853/selenium-3.141.0-py2.py3-none-any.whl (904kB)\n",
            "\u001b[K     |████████████████████████████████| 911kB 2.9MB/s \n",
            "\u001b[?25hRequirement already satisfied: urllib3 in /usr/local/lib/python3.6/dist-packages (from selenium) (1.24.3)\n",
            "Installing collected packages: selenium\n",
            "Successfully installed selenium-3.141.0\n",
            "Reading package lists...\n",
            "Building dependency tree...\n",
            "Reading state information...\n",
            "The following additional packages will be installed:\n",
            "  chromium-browser chromium-browser-l10n chromium-codecs-ffmpeg-extra\n",
            "Suggested packages:\n",
            "  webaccounts-chromium-extension unity-chromium-extension adobe-flashplugin\n",
            "The following NEW packages will be installed:\n",
            "  chromium-browser chromium-browser-l10n chromium-chromedriver\n",
            "  chromium-codecs-ffmpeg-extra\n",
            "0 upgraded, 4 newly installed, 0 to remove and 33 not upgraded.\n",
            "Need to get 70.8 MB of archives.\n",
            "After this operation, 254 MB of additional disk space will be used.\n",
            "Get:1 http://archive.ubuntu.com/ubuntu bionic-updates/universe amd64 chromium-codecs-ffmpeg-extra amd64 77.0.3865.90-0ubuntu0.18.04.1 [1,079 kB]\n",
            "Get:2 http://archive.ubuntu.com/ubuntu bionic-updates/universe amd64 chromium-browser amd64 77.0.3865.90-0ubuntu0.18.04.1 [62.3 MB]\n",
            "Get:3 http://archive.ubuntu.com/ubuntu bionic-updates/universe amd64 chromium-browser-l10n all 77.0.3865.90-0ubuntu0.18.04.1 [3,011 kB]\n",
            "Get:4 http://archive.ubuntu.com/ubuntu bionic-updates/universe amd64 chromium-chromedriver amd64 77.0.3865.90-0ubuntu0.18.04.1 [4,388 kB]\n",
            "Fetched 70.8 MB in 5s (13.8 MB/s)\n",
            "Selecting previously unselected package chromium-codecs-ffmpeg-extra.\n",
            "(Reading database ... 132681 files and directories currently installed.)\n",
            "Preparing to unpack .../chromium-codecs-ffmpeg-extra_77.0.3865.90-0ubuntu0.18.04.1_amd64.deb ...\n",
            "Unpacking chromium-codecs-ffmpeg-extra (77.0.3865.90-0ubuntu0.18.04.1) ...\n",
            "Selecting previously unselected package chromium-browser.\n",
            "Preparing to unpack .../chromium-browser_77.0.3865.90-0ubuntu0.18.04.1_amd64.deb ...\n",
            "Unpacking chromium-browser (77.0.3865.90-0ubuntu0.18.04.1) ...\n",
            "Selecting previously unselected package chromium-browser-l10n.\n",
            "Preparing to unpack .../chromium-browser-l10n_77.0.3865.90-0ubuntu0.18.04.1_all.deb ...\n",
            "Unpacking chromium-browser-l10n (77.0.3865.90-0ubuntu0.18.04.1) ...\n",
            "Selecting previously unselected package chromium-chromedriver.\n",
            "Preparing to unpack .../chromium-chromedriver_77.0.3865.90-0ubuntu0.18.04.1_amd64.deb ...\n",
            "Unpacking chromium-chromedriver (77.0.3865.90-0ubuntu0.18.04.1) ...\n",
            "Processing triggers for mime-support (3.60ubuntu1) ...\n",
            "Setting up chromium-codecs-ffmpeg-extra (77.0.3865.90-0ubuntu0.18.04.1) ...\n",
            "Processing triggers for man-db (2.8.3-2ubuntu0.1) ...\n",
            "Processing triggers for hicolor-icon-theme (0.17-2) ...\n",
            "Setting up chromium-browser (77.0.3865.90-0ubuntu0.18.04.1) ...\n",
            "update-alternatives: using /usr/bin/chromium-browser to provide /usr/bin/x-www-browser (x-www-browser) in auto mode\n",
            "update-alternatives: using /usr/bin/chromium-browser to provide /usr/bin/gnome-www-browser (gnome-www-browser) in auto mode\n",
            "Setting up chromium-chromedriver (77.0.3865.90-0ubuntu0.18.04.1) ...\n",
            "Setting up chromium-browser-l10n (77.0.3865.90-0ubuntu0.18.04.1) ...\n",
            "cp: '/usr/lib/chromium-browser/chromedriver' and '/usr/bin/chromedriver' are the same file\n"
          ],
          "name": "stdout"
        }
      ]
    },
    {
      "cell_type": "code",
      "metadata": {
        "id": "1Ao57zl38YFL",
        "colab_type": "code",
        "colab": {}
      },
      "source": [
        "class SeleniumScraper(object):\n",
        "    pass\n",
        "\n",
        "    def __init__(self, number_reviews_scrape):\n",
        "        chrome_options = Options()\n",
        "        chrome_options.add_argument('--headless')\n",
        "        chrome_options.add_argument('--no-sandbox')\n",
        "        chrome_options.add_argument('--disable-dev-shm-usage')\n",
        "        self.driver = webdriver.Chrome(options=chrome_options)\n",
        "        self.delay = 5\n",
        "        self.reviews = []\n",
        "        self.beers = []\n",
        "        self.number_reviews_scrape = number_reviews_scrape\n",
        "\n",
        "    def go_to_page(self, url, element_type=None, element_value=None):\n",
        "        try:\n",
        "            self.driver.get(url)\n",
        "            if element_type is not None or element_value is not None:\n",
        "              if element_type == 'id':\n",
        "                  self.wait(element_id=element_value)\n",
        "              elif element_type == 'name':\n",
        "                  self.wait(element_name=element_value)\n",
        "        except TimeoutException:\n",
        "            print('Loading took too long')\n",
        "        except NoSuchElementException:\n",
        "            print(f\"Couldn\\'t find {element_value} D:\")\n",
        "        except Exception as e:\n",
        "            print(str(e))\n",
        "\n",
        "\n",
        "    def wait(self, element_id=None, element_class_name=None, element_name=None):\n",
        "        delay = random.randint(1, 6)\n",
        "        wait = WebDriverWait(self.driver, delay)\n",
        "        if element_id is not None:\n",
        "            wait.until(EC.presence_of_element_located((By.ID, element_id)))\n",
        "        if element_class_name is not None:\n",
        "            wait.until(EC.presence_of_element_located((By.CLASS_NAME, element_class_name)))\n",
        "        if element_name is not None:\n",
        "            wait.until(EC.presence_of_element_located((By.NAME, element_name)))\n",
        "        else:\n",
        "            time.sleep(delay)\n",
        "\n",
        "    def get_list_of_beers(self):\n",
        "        beers = self.driver.find_element_by_id('ba-content').find_element_by_tag_name('table').find_elements_by_tag_name('tr')\n",
        "        self.beers = beers[1:len(beers)]  # removes the first <tr> (doesn't contain beer)\n",
        "\n",
        "    def iterate_through_beers(self):\n",
        "        init_count = len(self.beers)\n",
        "        for i in range(1, init_count):\n",
        "            if len(self.reviews) < self.number_reviews_scrape:\n",
        "                # get page source to prevent stale elements error\n",
        "                beers = self.driver.find_element_by_id('ba-content').find_element_by_tag_name('table').find_elements_by_tag_name('tr')\n",
        "                beer = beers[i]\n",
        "                beer.find_elements_by_tag_name('td')[1].find_element_by_tag_name('a').click()\n",
        "                self.scrape_page_reviews()\n",
        "                self.driver.execute_script(\"window.history.go(-1)\")\n",
        "                self.wait()\n",
        "\n",
        "    def scrape_page_reviews(self):\n",
        "        html = self.driver.page_source\n",
        "        soup = BeautifulSoup(html, \"lxml\")\n",
        "        product_name = soup.find('div', {'class': 'titleBar'})#.h1.text\n",
        "        for span in product_name.findAll('span'):\n",
        "            span.decompose()\n",
        "        product_name = soup.find('div', {'class': 'titleBar'}).h1.text\n",
        "        for user_review in soup.find_all('div', {'id': 'rating_fullview_content_2'}):\n",
        "            user_score = user_review.find('span', {'class': 'BAscore_norm'}).text\n",
        "            out_of_score = user_review.find('span', {'class': 'rAvg_norm'}).text.split('/')[1]\n",
        "\n",
        "            for thing in user_review.find_all(['br', 'i', 'span', 'div']):\n",
        "                thing.decompose()\n",
        "\n",
        "            review_text = user_review.text\n",
        "            #review_text = self.extract_review(user_review.find_all('br'))\n",
        "            if 'rDev' in review_text[0:10]:\n",
        "                review_text = review_text[6:]\n",
        "                \n",
        "            review_text = review_text.strip()\n",
        "            \n",
        "            if '=' in review_text[0:1]:\n",
        "                review_text = review_text[1:]\n",
        "                \n",
        "            review_text = self.deEmojify(review_text)\n",
        "            review_text = review_text.strip('\\n')\n",
        "            review_text = review_text.replace('\\n', ' ')\n",
        "            #print(f\"{product_name} {user_score} {out_of_score} {review_text}\")\n",
        "            self.reviews.append({'product name': product_name, 'product review': review_text, 'user rating': user_score})\n",
        "            if len(self.reviews) % 100 == 0:\n",
        "              print(f'have collected {len(self.reviews)} reviews')\n",
        "\n",
        "    def deEmojify(self, inputString):\n",
        "        return inputString.encode('ascii', 'ignore').decode('ascii')\n",
        "\n",
        "    def extract_review(self, contents):\n",
        "        \"\"\"\n",
        "        Doesn't work when there are multiple lines of comments :(\n",
        "        \"\"\"\n",
        "        # https://stackoverflow.com/a/5275918/7858114\n",
        "        for br in contents:\n",
        "            next_s = br.nextSibling\n",
        "            if not (next_s and isinstance(next_s, NavigableString)):\n",
        "                continue\n",
        "            next2_s = next_s.nextSibling\n",
        "            if next2_s and isinstance(next2_s, Tag) and next2_s.name == 'br':\n",
        "                text = str(next_s).strip()\n",
        "                if text:\n",
        "                    return text\n",
        "\n",
        "    def create_pandas_csv(self, filename='beerviews.csv'):\n",
        "        df = pd.DataFrame(self.reviews)\n",
        "        df.to_csv(filename, encoding='utf-8', index=False)\n",
        "\n",
        "    def quit_driver(self):\n",
        "        self.driver.quit()"
      ],
      "execution_count": 0,
      "outputs": []
    },
    {
      "cell_type": "code",
      "metadata": {
        "id": "2lO_qYETr9mz",
        "colab_type": "code",
        "outputId": "79d72c28-83a9-4ad5-8420-e2e09a7401eb",
        "colab": {
          "base_uri": "https://localhost:8080/",
          "height": 122
        }
      },
      "source": [
        "from google.colab import drive\n",
        "drive.mount('/content/drive')"
      ],
      "execution_count": 0,
      "outputs": [
        {
          "output_type": "stream",
          "text": [
            "Go to this URL in a browser: https://accounts.google.com/o/oauth2/auth?client_id=947318989803-6bn6qk8qdgf4n4g3pfee6491hc0brc4i.apps.googleusercontent.com&redirect_uri=urn%3Aietf%3Awg%3Aoauth%3A2.0%3Aoob&scope=email%20https%3A%2F%2Fwww.googleapis.com%2Fauth%2Fdocs.test%20https%3A%2F%2Fwww.googleapis.com%2Fauth%2Fdrive%20https%3A%2F%2Fwww.googleapis.com%2Fauth%2Fdrive.photos.readonly%20https%3A%2F%2Fwww.googleapis.com%2Fauth%2Fpeopleapi.readonly&response_type=code\n",
            "\n",
            "Enter your authorization code:\n",
            "··········\n",
            "Mounted at /content/drive\n"
          ],
          "name": "stdout"
        }
      ]
    },
    {
      "cell_type": "code",
      "metadata": {
        "id": "7Qr0iJYi6piD",
        "colab_type": "code",
        "outputId": "04080b60-e3dd-4be6-90cc-4cfa9494e5a3",
        "colab": {
          "base_uri": "https://localhost:8080/",
          "height": 85
        }
      },
      "source": [
        "url = 'https://www.beeradvocate.com/beer/top-rated/'\n",
        "number_reviews_scrape = 5000\n",
        "try:  \n",
        "  scraper = SeleniumCraigslistScraper(number_reviews_scrape=number_reviews_scrape)\n",
        "  scraper.go_to_page(url, 'id', 'ba-content')\n",
        "  scraper.get_list_of_beers()\n",
        "  scraper.iterate_through_beers()\n",
        "  scraper.quit_driver()\n",
        "  scraper.create_pandas_csv('beerreviews.csv')\n",
        "except Exception as e:\n",
        "  print(str(e))\n",
        "  scraper.quit_driver()"
      ],
      "execution_count": 0,
      "outputs": [
        {
          "output_type": "stream",
          "text": [
            "have collected 100 reviews\n",
            "have collected 200 reviews\n",
            "have collected 300 reviews\n",
            "have collected 400 reviews\n"
          ],
          "name": "stdout"
        }
      ]
    },
    {
      "cell_type": "markdown",
      "metadata": {
        "id": "W1vVHCnEvKNu",
        "colab_type": "text"
      },
      "source": [
        "# Part B"
      ]
    },
    {
      "cell_type": "code",
      "metadata": {
        "id": "izfhy87zW9CD",
        "colab_type": "code",
        "outputId": "9b722575-b52b-4df4-8149-e7a56d217914",
        "colab": {
          "base_uri": "https://localhost:8080/",
          "height": 80
        }
      },
      "source": [
        "import pandas as pd\n",
        "beerdf = pd.read_csv('beerreviews.csv')\n",
        "beerdf.head(1)"
      ],
      "execution_count": 0,
      "outputs": [
        {
          "output_type": "execute_result",
          "data": {
            "text/html": [
              "<div>\n",
              "<style scoped>\n",
              "    .dataframe tbody tr th:only-of-type {\n",
              "        vertical-align: middle;\n",
              "    }\n",
              "\n",
              "    .dataframe tbody tr th {\n",
              "        vertical-align: top;\n",
              "    }\n",
              "\n",
              "    .dataframe thead th {\n",
              "        text-align: right;\n",
              "    }\n",
              "</style>\n",
              "<table border=\"1\" class=\"dataframe\">\n",
              "  <thead>\n",
              "    <tr style=\"text-align: right;\">\n",
              "      <th></th>\n",
              "      <th>product name</th>\n",
              "      <th>product review</th>\n",
              "      <th>user rating</th>\n",
              "    </tr>\n",
              "  </thead>\n",
              "  <tbody>\n",
              "    <tr>\n",
              "      <th>0</th>\n",
              "      <td>Kentucky Brunch Brand Stout</td>\n",
              "      <td>2016 Silver Wax. Aroma has whiskey, maple, tof...</td>\n",
              "      <td>4.8</td>\n",
              "    </tr>\n",
              "  </tbody>\n",
              "</table>\n",
              "</div>"
            ],
            "text/plain": [
              "                  product name  ... user rating\n",
              "0  Kentucky Brunch Brand Stout  ...         4.8\n",
              "\n",
              "[1 rows x 3 columns]"
            ]
          },
          "metadata": {
            "tags": []
          },
          "execution_count": 4
        }
      ]
    },
    {
      "cell_type": "code",
      "metadata": {
        "id": "36Y79QE5XF9W",
        "colab_type": "code",
        "colab": {}
      },
      "source": [
        "from string import punctuation\n",
        "\n",
        "def removepunctuation(text):\n",
        "    for itr in punctuation:\n",
        "        text = text.replace(itr,'')\n",
        "    return text.lower()\n",
        "\n",
        "beerdf['clean review'] = beerdf['product review'].apply(removepunctuation)"
      ],
      "execution_count": 0,
      "outputs": []
    },
    {
      "cell_type": "code",
      "metadata": {
        "id": "HDPdX7WJpeFC",
        "colab_type": "code",
        "outputId": "13442bb9-6415-421d-e774-507010f5827a",
        "colab": {
          "base_uri": "https://localhost:8080/",
          "height": 85
        }
      },
      "source": [
        "import nltk\n",
        "from nltk import FreqDist\n",
        "from nltk.corpus import stopwords # Import the stop word list\n",
        "nltk.download('punkt')\n",
        "nltk.download('stopwords')\n",
        "from nltk.tokenize import sent_tokenize, word_tokenize\n",
        "stop_words = set(stopwords.words('english'))"
      ],
      "execution_count": 0,
      "outputs": [
        {
          "output_type": "stream",
          "text": [
            "[nltk_data] Downloading package punkt to /root/nltk_data...\n",
            "[nltk_data]   Unzipping tokenizers/punkt.zip.\n",
            "[nltk_data] Downloading package stopwords to /root/nltk_data...\n",
            "[nltk_data]   Unzipping corpora/stopwords.zip.\n"
          ],
          "name": "stdout"
        }
      ]
    },
    {
      "cell_type": "code",
      "metadata": {
        "id": "jBMS0BvypnWn",
        "colab_type": "code",
        "colab": {}
      },
      "source": [
        "# divides string into lists of substrings\n",
        "beerdf['words'] = beerdf['clean review'].apply(word_tokenize)\n",
        "\n",
        "def remove_stopwords(text):\n",
        "  \"\"\"\n",
        "  Filters out words that are considered stop words\n",
        "  \"\"\"\n",
        "  return [w for w in text if not w in stop_words] \n",
        "\n",
        "def remove_duplicate_words(text):\n",
        "  return list(set(text))\n",
        "\n",
        "# remove stopwords from reviews\n",
        "beerdf['final words'] =  beerdf['words'].apply(remove_stopwords)\n",
        "# ['the', 'beer', 'pours', 'pitch', 'black', 'with', 'a', 'frothy', 'tan', 'head', 'the', 'bottle', 'gushed', 'when', 'i', 'opened', 'it', 'it', 'smells', 'and', 'tastes', 'of', 'maple', 'syrup', 'coffee', 'creams', 'brle', 'vanilla', 'and', 'warm', 'bourbon', 'the', 'feel', 'is', 'slick', 'and', 'smooth']\n",
        "# ['beer', 'pours', 'pitch', 'black', 'frothy', 'tan', 'head', 'bottle', 'gushed', 'opened', 'smells', 'tastes', 'maple', 'syrup', 'coffee', 'creams', 'brle', 'vanilla', 'warm', 'bourbon', 'feel', 'slick', 'smooth']\n",
        "\n",
        "# some duplicates showing up in final words that would mess up similarity scores\n",
        "beerdf['final words'] = beerdf['final words'].apply(remove_duplicate_words)\n",
        "\n",
        "# getting list of words\n",
        "word_count = []\n",
        "for pl in range(len(beerdf)):\n",
        "  word_count += beerdf['final words'][pl]\n",
        "\n",
        "# Get frequency of words\n",
        "word_freq = FreqDist(word_count)\n"
      ],
      "execution_count": 0,
      "outputs": []
    },
    {
      "cell_type": "code",
      "metadata": {
        "id": "kj9Ggf8jrJhr",
        "colab_type": "code",
        "outputId": "709354cb-5c6f-45c2-8686-d8453bdcb6e7",
        "colab": {
          "base_uri": "https://localhost:8080/",
          "height": 119
        }
      },
      "source": [
        "# checking to see which of the attributes are used and how much\n",
        "word_freq_dict = dict(word_freq)\n",
        "attributes = ['aggressive', 'balanced', 'complex', 'crisp', 'fruity', 'robust']\n",
        "for a in attributes:\n",
        "  if word_freq_dict.get(a) is not None:\n",
        "    print(f'{a} was mentioned {word_freq_dict[a]} times')"
      ],
      "execution_count": 0,
      "outputs": [
        {
          "output_type": "stream",
          "text": [
            "aggressive was mentioned 62 times\n",
            "balanced was mentioned 611 times\n",
            "complex was mentioned 442 times\n",
            "crisp was mentioned 212 times\n",
            "fruity was mentioned 334 times\n",
            "robust was mentioned 85 times\n"
          ],
          "name": "stdout"
        }
      ]
    },
    {
      "cell_type": "code",
      "metadata": {
        "id": "I56EVJCItjnW",
        "colab_type": "code",
        "outputId": "b780527c-efd6-4824-cfa5-b0658ec91934",
        "colab": {
          "base_uri": "https://localhost:8080/",
          "height": 34
        }
      },
      "source": [
        "#chosen_attributes = ['balanced', 'complex', 'fruity']\n",
        "chosen_attributes = pd.read_excel('beerattributes.xlsx', header=None, names=['attributes'])\n",
        "chosen_attr_str = ' '.join(chosen_attributes['attributes'])\n",
        "print(chosen_attr_str)"
      ],
      "execution_count": 0,
      "outputs": [
        {
          "output_type": "stream",
          "text": [
            "balanced complex fruity\n"
          ],
          "name": "stdout"
        }
      ]
    },
    {
      "cell_type": "markdown",
      "metadata": {
        "id": "EWirPekPvGiT",
        "colab_type": "text"
      },
      "source": [
        "# Part C"
      ]
    },
    {
      "cell_type": "code",
      "metadata": {
        "id": "zo5SyXERz7KX",
        "colab_type": "code",
        "outputId": "ab4f3e7c-68ba-4f12-cc56-d1603a606aec",
        "colab": {
          "base_uri": "https://localhost:8080/",
          "height": 241
        }
      },
      "source": [
        " !python -m spacy download en_core_web_lg\n",
        "# this is necessary to get more accurate scorings\n",
        "# restart the runtime after running above line so spacy can find the package\n",
        "# this takes a few minutes to download and install. It'll pop up a text input box, but you can ignore it."
      ],
      "execution_count": 0,
      "outputs": [
        {
          "output_type": "stream",
          "text": [
            "Collecting en_core_web_lg==2.1.0\n",
            "\u001b[?25l  Downloading https://github.com/explosion/spacy-models/releases/download/en_core_web_lg-2.1.0/en_core_web_lg-2.1.0.tar.gz (826.9MB)\n",
            "\u001b[K     |████████████████████████████████| 826.9MB 1.2MB/s \n",
            "\u001b[?25hBuilding wheels for collected packages: en-core-web-lg\n",
            "  Building wheel for en-core-web-lg (setup.py) ... \u001b[?25l\u001b[?25hdone\n",
            "  Created wheel for en-core-web-lg: filename=en_core_web_lg-2.1.0-cp36-none-any.whl size=828255076 sha256=e7c40e80bb5d2f478f402066f235cb8dfdc45c27fc727f872befb0ec0872cd09\n",
            "  Stored in directory: /tmp/pip-ephem-wheel-cache-zyzxl5mg/wheels/b4/d7/70/426d313a459f82ed5e06cc36a50e2bb2f0ec5cb31d8e0bdf09\n",
            "Successfully built en-core-web-lg\n",
            "Installing collected packages: en-core-web-lg\n",
            "Successfully installed en-core-web-lg-2.1.0\n",
            "\u001b[38;5;2m✔ Download and installation successful\u001b[0m\n",
            "You can now load the model via spacy.load('en_core_web_lg')\n"
          ],
          "name": "stdout"
        }
      ]
    },
    {
      "cell_type": "code",
      "metadata": {
        "id": "mSPle24svIcA",
        "colab_type": "code",
        "colab": {}
      },
      "source": [
        "import spacy\n",
        "nlp = spacy.load(\"en_core_web_lg\")"
      ],
      "execution_count": 0,
      "outputs": []
    },
    {
      "cell_type": "code",
      "metadata": {
        "id": "W486XVOrvTie",
        "colab_type": "code",
        "colab": {}
      },
      "source": [
        "attributes_nlp = nlp(chosen_attr_str)\n",
        "\n",
        "def get_similarity(review_words):\n",
        "  text_str = ' '.join(review_words)\n",
        "  review_nlp = nlp(text_str)\n",
        "  return review_nlp.similarity(attributes_nlp)"
      ],
      "execution_count": 0,
      "outputs": []
    },
    {
      "cell_type": "code",
      "metadata": {
        "id": "Y7KPLNCgwocx",
        "colab_type": "code",
        "outputId": "cb913555-1cd7-4786-95d0-beac286df746",
        "colab": {
          "base_uri": "https://localhost:8080/",
          "height": 51
        }
      },
      "source": [
        "%%time\n",
        "beerdf['similarity'] =  beerdf['final words'].apply(get_similarity)"
      ],
      "execution_count": 0,
      "outputs": [
        {
          "output_type": "stream",
          "text": [
            "CPU times: user 1min 27s, sys: 245 ms, total: 1min 27s\n",
            "Wall time: 1min 27s\n"
          ],
          "name": "stdout"
        }
      ]
    },
    {
      "cell_type": "code",
      "metadata": {
        "id": "yw6RkAEdduHV",
        "colab_type": "code",
        "outputId": "6ecd423e-6f9e-42ba-82ec-7d15437eaab7",
        "colab": {
          "base_uri": "https://localhost:8080/",
          "height": 114
        }
      },
      "source": [
        "beerdf.head(1)"
      ],
      "execution_count": 0,
      "outputs": [
        {
          "output_type": "execute_result",
          "data": {
            "text/html": [
              "<div>\n",
              "<style scoped>\n",
              "    .dataframe tbody tr th:only-of-type {\n",
              "        vertical-align: middle;\n",
              "    }\n",
              "\n",
              "    .dataframe tbody tr th {\n",
              "        vertical-align: top;\n",
              "    }\n",
              "\n",
              "    .dataframe thead th {\n",
              "        text-align: right;\n",
              "    }\n",
              "</style>\n",
              "<table border=\"1\" class=\"dataframe\">\n",
              "  <thead>\n",
              "    <tr style=\"text-align: right;\">\n",
              "      <th></th>\n",
              "      <th>product name</th>\n",
              "      <th>product review</th>\n",
              "      <th>user rating</th>\n",
              "      <th>clean review</th>\n",
              "      <th>words</th>\n",
              "      <th>final words</th>\n",
              "      <th>similarity</th>\n",
              "    </tr>\n",
              "  </thead>\n",
              "  <tbody>\n",
              "    <tr>\n",
              "      <th>0</th>\n",
              "      <td>Kentucky Brunch Brand Stout</td>\n",
              "      <td>2016 Silver Wax. Aroma has whiskey, maple, tof...</td>\n",
              "      <td>4.8</td>\n",
              "      <td>2016 silver wax aroma has whiskey maple toffee...</td>\n",
              "      <td>[2016, silver, wax, aroma, has, whiskey, maple...</td>\n",
              "      <td>[2016, wood, wax, coffee, aftertaste, barrel, ...</td>\n",
              "      <td>0.627137</td>\n",
              "    </tr>\n",
              "  </tbody>\n",
              "</table>\n",
              "</div>"
            ],
            "text/plain": [
              "                  product name  ... similarity\n",
              "0  Kentucky Brunch Brand Stout  ...   0.627137\n",
              "\n",
              "[1 rows x 7 columns]"
            ]
          },
          "metadata": {
            "tags": []
          },
          "execution_count": 14
        }
      ]
    },
    {
      "cell_type": "code",
      "metadata": {
        "id": "0sWlAJOX3ev1",
        "colab_type": "code",
        "colab": {}
      },
      "source": [
        "beerdf['attributes'] = chosen_attr_str\n",
        "beerdf.sort_values(by=['similarity'], ascending=False, inplace=True)\n",
        "beerdf_top300 = beerdf[:300]"
      ],
      "execution_count": 0,
      "outputs": []
    },
    {
      "cell_type": "code",
      "metadata": {
        "id": "MLnbAmqkDyps",
        "colab_type": "code",
        "colab": {}
      },
      "source": [
        "# beerdf_top300.to_csv('beer_attribute_similarities.csv', columns=['product name', 'clean review', 'final words', 'attributes', 'similarity'], index=False, encoding='utf-8')"
      ],
      "execution_count": 0,
      "outputs": []
    },
    {
      "cell_type": "code",
      "metadata": {
        "id": "UQ-JsH4vMOjU",
        "colab_type": "code",
        "outputId": "15d2a2aa-0d1c-4a71-96bf-a3b19a71ad0f",
        "colab": {
          "base_uri": "https://localhost:8080/",
          "height": 85
        }
      },
      "source": [
        "print(beerdf_top300.shape)\n",
        "print(beerdf_top300.columns)"
      ],
      "execution_count": 0,
      "outputs": [
        {
          "output_type": "stream",
          "text": [
            "(300, 8)\n",
            "Index(['product name', 'product review', 'user rating', 'clean review',\n",
            "       'words', 'final words', 'similarity', 'attributes'],\n",
            "      dtype='object')\n"
          ],
          "name": "stdout"
        }
      ]
    },
    {
      "cell_type": "markdown",
      "metadata": {
        "id": "0LmRndp_Nr70",
        "colab_type": "text"
      },
      "source": [
        "# Part D"
      ]
    },
    {
      "cell_type": "code",
      "metadata": {
        "id": "XjSKg5uWNweh",
        "colab_type": "code",
        "outputId": "8fc15526-5d8b-4b22-fb1e-79f4e1c168fc",
        "colab": {
          "base_uri": "https://localhost:8080/",
          "height": 122
        }
      },
      "source": [
        "!pip install vaderSentiment"
      ],
      "execution_count": 0,
      "outputs": [
        {
          "output_type": "stream",
          "text": [
            "Collecting vaderSentiment\n",
            "\u001b[?25l  Downloading https://files.pythonhosted.org/packages/86/9e/c53e1fc61aac5ee490a6ac5e21b1ac04e55a7c2aba647bb8411c9aadf24e/vaderSentiment-3.2.1-py2.py3-none-any.whl (125kB)\n",
            "\u001b[K     |████████████████████████████████| 133kB 2.7MB/s \n",
            "\u001b[?25hInstalling collected packages: vaderSentiment\n",
            "Successfully installed vaderSentiment-3.2.1\n"
          ],
          "name": "stdout"
        }
      ]
    },
    {
      "cell_type": "code",
      "metadata": {
        "id": "q9hEToTxNuMb",
        "colab_type": "code",
        "colab": {}
      },
      "source": [
        "from vaderSentiment.vaderSentiment import SentimentIntensityAnalyzer \n",
        "\n",
        "def sentiment_scores(sentence): \n",
        "    sid_obj = SentimentIntensityAnalyzer() \n",
        "    sentiment_dict = sid_obj.polarity_scores(sentence) \n",
        "    return sentiment_dict"
      ],
      "execution_count": 0,
      "outputs": []
    },
    {
      "cell_type": "code",
      "metadata": {
        "id": "pk98q6qONvGT",
        "colab_type": "code",
        "outputId": "ab6b390b-207a-48f6-f28a-ccdccd2a0250",
        "colab": {
          "base_uri": "https://localhost:8080/",
          "height": 204
        }
      },
      "source": [
        "# index 1 = product rewview\n",
        "# index 2 = clean review\n",
        "# index 4 = words list (stopwords included)\n",
        "sentiments = []\n",
        "for i in range(len(beerdf_top300)):\n",
        "  sent_score = sentiment_scores(beerdf_top300.iloc[i, 1])\n",
        "  sentiments.append(sent_score['compound'])\n",
        "beerdf_top300['sentiment'] = sentiments\n",
        "beerdf_top300.sort_values(by=['sentiment'], ascending=False, inplace=True)\n"
      ],
      "execution_count": 0,
      "outputs": [
        {
          "output_type": "stream",
          "text": [
            "/usr/local/lib/python3.6/dist-packages/ipykernel_launcher.py:5: SettingWithCopyWarning: \n",
            "A value is trying to be set on a copy of a slice from a DataFrame.\n",
            "Try using .loc[row_indexer,col_indexer] = value instead\n",
            "\n",
            "See the caveats in the documentation: http://pandas.pydata.org/pandas-docs/stable/user_guide/indexing.html#returning-a-view-versus-a-copy\n",
            "  \"\"\"\n",
            "/usr/local/lib/python3.6/dist-packages/ipykernel_launcher.py:6: SettingWithCopyWarning: \n",
            "A value is trying to be set on a copy of a slice from a DataFrame\n",
            "\n",
            "See the caveats in the documentation: http://pandas.pydata.org/pandas-docs/stable/user_guide/indexing.html#returning-a-view-versus-a-copy\n",
            "  \n"
          ],
          "name": "stderr"
        }
      ]
    },
    {
      "cell_type": "code",
      "metadata": {
        "id": "X66C5fUnQDHT",
        "colab_type": "code",
        "outputId": "2064f4be-71a6-40c3-a473-5d812e546326",
        "colab": {
          "base_uri": "https://localhost:8080/",
          "height": 391
        }
      },
      "source": [
        "beerdf_top300.head()"
      ],
      "execution_count": 0,
      "outputs": [
        {
          "output_type": "execute_result",
          "data": {
            "text/html": [
              "<div>\n",
              "<style scoped>\n",
              "    .dataframe tbody tr th:only-of-type {\n",
              "        vertical-align: middle;\n",
              "    }\n",
              "\n",
              "    .dataframe tbody tr th {\n",
              "        vertical-align: top;\n",
              "    }\n",
              "\n",
              "    .dataframe thead th {\n",
              "        text-align: right;\n",
              "    }\n",
              "</style>\n",
              "<table border=\"1\" class=\"dataframe\">\n",
              "  <thead>\n",
              "    <tr style=\"text-align: right;\">\n",
              "      <th></th>\n",
              "      <th>product name</th>\n",
              "      <th>product review</th>\n",
              "      <th>user rating</th>\n",
              "      <th>clean review</th>\n",
              "      <th>words</th>\n",
              "      <th>final words</th>\n",
              "      <th>similarity</th>\n",
              "      <th>attributes</th>\n",
              "      <th>sentiment</th>\n",
              "    </tr>\n",
              "  </thead>\n",
              "  <tbody>\n",
              "    <tr>\n",
              "      <th>4406</th>\n",
              "      <td>Oude Geuze Cuvée Armand &amp; Gaston</td>\n",
              "      <td>Currently #184 in the Top 250 beers list and t...</td>\n",
              "      <td>4.50</td>\n",
              "      <td>currently 184 in the top 250 beers list and th...</td>\n",
              "      <td>[currently, 184, in, the, top, 250, beers, lis...</td>\n",
              "      <td>[high, abundance, pear, definitely, carbonated...</td>\n",
              "      <td>0.749265</td>\n",
              "      <td>balanced complex fruity</td>\n",
              "      <td>0.9978</td>\n",
              "    </tr>\n",
              "    <tr>\n",
              "      <th>3504</th>\n",
              "      <td>Darkness</td>\n",
              "      <td>750 ml bottle into snifter, bottled on 9/25/20...</td>\n",
              "      <td>4.36</td>\n",
              "      <td>750 ml bottle into snifter bottled on 9252019 ...</td>\n",
              "      <td>[750, ml, bottle, into, snifter, bottled, on, ...</td>\n",
              "      <td>[rocky, definitely, retention, biscuit, cap, b...</td>\n",
              "      <td>0.749943</td>\n",
              "      <td>balanced complex fruity</td>\n",
              "      <td>0.9976</td>\n",
              "    </tr>\n",
              "    <tr>\n",
              "      <th>1631</th>\n",
              "      <td>Oude Geuze Vintage</td>\n",
              "      <td>750ml bottle, 2008 vintage, poured into a Drie...</td>\n",
              "      <td>4.58</td>\n",
              "      <td>750ml bottle 2008 vintage poured into a drie f...</td>\n",
              "      <td>[750ml, bottle, 2008, vintage, poured, into, a...</td>\n",
              "      <td>[character, lace, retention, nuances, funk, ci...</td>\n",
              "      <td>0.755819</td>\n",
              "      <td>balanced complex fruity</td>\n",
              "      <td>0.9972</td>\n",
              "    </tr>\n",
              "    <tr>\n",
              "      <th>4951</th>\n",
              "      <td>Ghost In The Machine</td>\n",
              "      <td>12 ounce bottle into tulip glass, bottled on 8...</td>\n",
              "      <td>4.28</td>\n",
              "      <td>12 ounce bottle into tulip glass bottled on 82...</td>\n",
              "      <td>[12, ounce, bottle, into, tulip, glass, bottle...</td>\n",
              "      <td>[rocky, mildly, pear, retention, nedipa, biscu...</td>\n",
              "      <td>0.764006</td>\n",
              "      <td>balanced complex fruity</td>\n",
              "      <td>0.9966</td>\n",
              "    </tr>\n",
              "    <tr>\n",
              "      <th>2448</th>\n",
              "      <td>Beyond Good And Evil</td>\n",
              "      <td>375ml bottle, 2018 release, poured into a Hill...</td>\n",
              "      <td>4.22</td>\n",
              "      <td>375ml bottle 2018 release poured into a hill f...</td>\n",
              "      <td>[375ml, bottle, 2018, release, poured, into, a...</td>\n",
              "      <td>[lots, sweet, retention, maple, bourbon, linge...</td>\n",
              "      <td>0.740869</td>\n",
              "      <td>balanced complex fruity</td>\n",
              "      <td>0.9961</td>\n",
              "    </tr>\n",
              "  </tbody>\n",
              "</table>\n",
              "</div>"
            ],
            "text/plain": [
              "                          product name  ... sentiment\n",
              "4406  Oude Geuze Cuvée Armand & Gaston  ...    0.9978\n",
              "3504                          Darkness  ...    0.9976\n",
              "1631                Oude Geuze Vintage  ...    0.9972\n",
              "4951              Ghost In The Machine  ...    0.9966\n",
              "2448              Beyond Good And Evil  ...    0.9961\n",
              "\n",
              "[5 rows x 9 columns]"
            ]
          },
          "metadata": {
            "tags": []
          },
          "execution_count": 21
        }
      ]
    },
    {
      "cell_type": "markdown",
      "metadata": {
        "id": "01xrxNzQra1b",
        "colab_type": "text"
      },
      "source": [
        "# Part E"
      ]
    },
    {
      "cell_type": "code",
      "metadata": {
        "id": "HAMgcFuTCIB6",
        "colab_type": "code",
        "colab": {}
      },
      "source": [
        "beerdf_recommend = beerdf_top300[['product name', 'sentiment', 'similarity']]"
      ],
      "execution_count": 0,
      "outputs": []
    },
    {
      "cell_type": "code",
      "metadata": {
        "id": "G6vV8dWB_hhS",
        "colab_type": "code",
        "outputId": "f450c2f5-a33d-4508-edb0-064766674230",
        "colab": {
          "base_uri": "https://localhost:8080/",
          "height": 102
        }
      },
      "source": [
        "beerdf_recommend.sort_values(by=['product name'], ascending=True, inplace=True) "
      ],
      "execution_count": 0,
      "outputs": [
        {
          "output_type": "stream",
          "text": [
            "/usr/local/lib/python3.6/dist-packages/ipykernel_launcher.py:1: SettingWithCopyWarning: \n",
            "A value is trying to be set on a copy of a slice from a DataFrame\n",
            "\n",
            "See the caveats in the documentation: http://pandas.pydata.org/pandas-docs/stable/user_guide/indexing.html#returning-a-view-versus-a-copy\n",
            "  \"\"\"Entry point for launching an IPython kernel.\n"
          ],
          "name": "stderr"
        }
      ]
    },
    {
      "cell_type": "code",
      "metadata": {
        "id": "mWysAQ8TB4wA",
        "colab_type": "code",
        "outputId": "431a7005-6c7d-41ad-f8be-efe415a85c9f",
        "colab": {
          "base_uri": "https://localhost:8080/",
          "height": 419
        }
      },
      "source": [
        "beerdf_recommend.head(100)"
      ],
      "execution_count": 0,
      "outputs": [
        {
          "output_type": "execute_result",
          "data": {
            "text/html": [
              "<div>\n",
              "<style scoped>\n",
              "    .dataframe tbody tr th:only-of-type {\n",
              "        vertical-align: middle;\n",
              "    }\n",
              "\n",
              "    .dataframe tbody tr th {\n",
              "        vertical-align: top;\n",
              "    }\n",
              "\n",
              "    .dataframe thead th {\n",
              "        text-align: right;\n",
              "    }\n",
              "</style>\n",
              "<table border=\"1\" class=\"dataframe\">\n",
              "  <thead>\n",
              "    <tr style=\"text-align: right;\">\n",
              "      <th></th>\n",
              "      <th>product name</th>\n",
              "      <th>sentiment</th>\n",
              "      <th>similarity</th>\n",
              "    </tr>\n",
              "  </thead>\n",
              "  <tbody>\n",
              "    <tr>\n",
              "      <th>3538</th>\n",
              "      <td>3rd Anniversary Imperial IPA</td>\n",
              "      <td>0.9401</td>\n",
              "      <td>0.736674</td>\n",
              "    </tr>\n",
              "    <tr>\n",
              "      <th>2379</th>\n",
              "      <td>A Deal With The Devil</td>\n",
              "      <td>0.9799</td>\n",
              "      <td>0.745410</td>\n",
              "    </tr>\n",
              "    <tr>\n",
              "      <th>1359</th>\n",
              "      <td>Aaron</td>\n",
              "      <td>0.9312</td>\n",
              "      <td>0.753289</td>\n",
              "    </tr>\n",
              "    <tr>\n",
              "      <th>1370</th>\n",
              "      <td>Aaron</td>\n",
              "      <td>0.9583</td>\n",
              "      <td>0.746719</td>\n",
              "    </tr>\n",
              "    <tr>\n",
              "      <th>536</th>\n",
              "      <td>Abner</td>\n",
              "      <td>0.9303</td>\n",
              "      <td>0.811075</td>\n",
              "    </tr>\n",
              "    <tr>\n",
              "      <th>...</th>\n",
              "      <td>...</td>\n",
              "      <td>...</td>\n",
              "      <td>...</td>\n",
              "    </tr>\n",
              "    <tr>\n",
              "      <th>1106</th>\n",
              "      <td>Double Galaxy</td>\n",
              "      <td>-0.0377</td>\n",
              "      <td>0.751708</td>\n",
              "    </tr>\n",
              "    <tr>\n",
              "      <th>4051</th>\n",
              "      <td>Double Nelson</td>\n",
              "      <td>0.6642</td>\n",
              "      <td>0.745429</td>\n",
              "    </tr>\n",
              "    <tr>\n",
              "      <th>2834</th>\n",
              "      <td>Double Shot</td>\n",
              "      <td>0.9778</td>\n",
              "      <td>0.737933</td>\n",
              "    </tr>\n",
              "    <tr>\n",
              "      <th>518</th>\n",
              "      <td>Double Sunshine</td>\n",
              "      <td>0.9285</td>\n",
              "      <td>0.744991</td>\n",
              "    </tr>\n",
              "    <tr>\n",
              "      <th>501</th>\n",
              "      <td>Double Sunshine</td>\n",
              "      <td>0.6326</td>\n",
              "      <td>0.752437</td>\n",
              "    </tr>\n",
              "  </tbody>\n",
              "</table>\n",
              "<p>100 rows × 3 columns</p>\n",
              "</div>"
            ],
            "text/plain": [
              "                      product name  sentiment  similarity\n",
              "3538  3rd Anniversary Imperial IPA     0.9401    0.736674\n",
              "2379         A Deal With The Devil     0.9799    0.745410\n",
              "1359                         Aaron     0.9312    0.753289\n",
              "1370                         Aaron     0.9583    0.746719\n",
              "536                          Abner     0.9303    0.811075\n",
              "...                            ...        ...         ...\n",
              "1106                 Double Galaxy    -0.0377    0.751708\n",
              "4051                 Double Nelson     0.6642    0.745429\n",
              "2834                   Double Shot     0.9778    0.737933\n",
              "518                Double Sunshine     0.9285    0.744991\n",
              "501                Double Sunshine     0.6326    0.752437\n",
              "\n",
              "[100 rows x 3 columns]"
            ]
          },
          "metadata": {
            "tags": []
          },
          "execution_count": 24
        }
      ]
    },
    {
      "cell_type": "code",
      "metadata": {
        "id": "CGkvVhXeChu5",
        "colab_type": "code",
        "outputId": "3b73c83e-6977-4ef7-b5a4-92dc83175ce9",
        "colab": {
          "base_uri": "https://localhost:8080/",
          "height": 119
        }
      },
      "source": [
        "beerdf_recommend['sentiment_avg'] = beerdf_recommend.groupby(['product name']).sentiment.transform('mean')"
      ],
      "execution_count": 0,
      "outputs": [
        {
          "output_type": "stream",
          "text": [
            "/usr/local/lib/python3.6/dist-packages/ipykernel_launcher.py:1: SettingWithCopyWarning: \n",
            "A value is trying to be set on a copy of a slice from a DataFrame.\n",
            "Try using .loc[row_indexer,col_indexer] = value instead\n",
            "\n",
            "See the caveats in the documentation: http://pandas.pydata.org/pandas-docs/stable/user_guide/indexing.html#returning-a-view-versus-a-copy\n",
            "  \"\"\"Entry point for launching an IPython kernel.\n"
          ],
          "name": "stderr"
        }
      ]
    },
    {
      "cell_type": "code",
      "metadata": {
        "id": "KgNUZctSDHZG",
        "colab_type": "code",
        "outputId": "2eeef277-9fb2-47af-dde4-51d7aa4eeaa6",
        "colab": {
          "base_uri": "https://localhost:8080/",
          "height": 119
        }
      },
      "source": [
        "beerdf_recommend['similarity_avg'] = beerdf_recommend.groupby(['product name']).similarity.transform('mean')"
      ],
      "execution_count": 0,
      "outputs": [
        {
          "output_type": "stream",
          "text": [
            "/usr/local/lib/python3.6/dist-packages/ipykernel_launcher.py:1: SettingWithCopyWarning: \n",
            "A value is trying to be set on a copy of a slice from a DataFrame.\n",
            "Try using .loc[row_indexer,col_indexer] = value instead\n",
            "\n",
            "See the caveats in the documentation: http://pandas.pydata.org/pandas-docs/stable/user_guide/indexing.html#returning-a-view-versus-a-copy\n",
            "  \"\"\"Entry point for launching an IPython kernel.\n"
          ],
          "name": "stderr"
        }
      ]
    },
    {
      "cell_type": "code",
      "metadata": {
        "id": "2lc0UmyMD17o",
        "colab_type": "code",
        "colab": {}
      },
      "source": [
        "beerdf_final = beerdf_recommend.drop_duplicates(subset='product name', keep='first')"
      ],
      "execution_count": 0,
      "outputs": []
    },
    {
      "cell_type": "code",
      "metadata": {
        "id": "e2NwzkTItg-M",
        "colab_type": "code",
        "colab": {}
      },
      "source": [
        "beerdf_other = beerdf_recommend.drop_duplicates(subset='product name', keep='first')\n",
        "beerdf_other2 = beerdf_other.loc[beerdf_other['product name'].isin([\"Kentucky Brunch Brand Stout\", \"Chemtrailmix\", \"Barrel-Aged Abraxas\"])]"
      ],
      "execution_count": 0,
      "outputs": []
    },
    {
      "cell_type": "code",
      "metadata": {
        "id": "1ZriDSK9uetQ",
        "colab_type": "code",
        "outputId": "3ce7deb3-5988-489b-ce6f-3285acdcae58",
        "colab": {
          "base_uri": "https://localhost:8080/",
          "height": 80
        }
      },
      "source": [
        "beerdf_other2"
      ],
      "execution_count": 0,
      "outputs": [
        {
          "output_type": "execute_result",
          "data": {
            "text/html": [
              "<div>\n",
              "<style scoped>\n",
              "    .dataframe tbody tr th:only-of-type {\n",
              "        vertical-align: middle;\n",
              "    }\n",
              "\n",
              "    .dataframe tbody tr th {\n",
              "        vertical-align: top;\n",
              "    }\n",
              "\n",
              "    .dataframe thead th {\n",
              "        text-align: right;\n",
              "    }\n",
              "</style>\n",
              "<table border=\"1\" class=\"dataframe\">\n",
              "  <thead>\n",
              "    <tr style=\"text-align: right;\">\n",
              "      <th></th>\n",
              "      <th>product name</th>\n",
              "      <th>sentiment</th>\n",
              "      <th>similarity</th>\n",
              "      <th>sentiment_avg</th>\n",
              "      <th>similarity_avg</th>\n",
              "    </tr>\n",
              "  </thead>\n",
              "  <tbody>\n",
              "    <tr>\n",
              "      <th>76</th>\n",
              "      <td>Barrel-Aged Abraxas</td>\n",
              "      <td>0.8979</td>\n",
              "      <td>0.74282</td>\n",
              "      <td>0.93245</td>\n",
              "      <td>0.749086</td>\n",
              "    </tr>\n",
              "  </tbody>\n",
              "</table>\n",
              "</div>"
            ],
            "text/plain": [
              "           product name  sentiment  similarity  sentiment_avg  similarity_avg\n",
              "76  Barrel-Aged Abraxas     0.8979     0.74282        0.93245        0.749086"
            ]
          },
          "metadata": {
            "tags": []
          },
          "execution_count": 76
        }
      ]
    },
    {
      "cell_type": "code",
      "metadata": {
        "id": "lxcpnSL0t0Gj",
        "colab_type": "code",
        "outputId": "39c4b185-5339-4ff5-946a-425def6332ad",
        "colab": {
          "base_uri": "https://localhost:8080/",
          "height": 204
        }
      },
      "source": [
        "beerdf_other.head()"
      ],
      "execution_count": 0,
      "outputs": [
        {
          "output_type": "execute_result",
          "data": {
            "text/html": [
              "<div>\n",
              "<style scoped>\n",
              "    .dataframe tbody tr th:only-of-type {\n",
              "        vertical-align: middle;\n",
              "    }\n",
              "\n",
              "    .dataframe tbody tr th {\n",
              "        vertical-align: top;\n",
              "    }\n",
              "\n",
              "    .dataframe thead th {\n",
              "        text-align: right;\n",
              "    }\n",
              "</style>\n",
              "<table border=\"1\" class=\"dataframe\">\n",
              "  <thead>\n",
              "    <tr style=\"text-align: right;\">\n",
              "      <th></th>\n",
              "      <th>product name</th>\n",
              "      <th>sentiment</th>\n",
              "      <th>similarity</th>\n",
              "      <th>sentiment_avg</th>\n",
              "      <th>similarity_avg</th>\n",
              "    </tr>\n",
              "  </thead>\n",
              "  <tbody>\n",
              "    <tr>\n",
              "      <th>3538</th>\n",
              "      <td>3rd Anniversary Imperial IPA</td>\n",
              "      <td>0.9401</td>\n",
              "      <td>0.736674</td>\n",
              "      <td>0.940100</td>\n",
              "      <td>0.736674</td>\n",
              "    </tr>\n",
              "    <tr>\n",
              "      <th>2379</th>\n",
              "      <td>A Deal With The Devil</td>\n",
              "      <td>0.9799</td>\n",
              "      <td>0.745410</td>\n",
              "      <td>0.979900</td>\n",
              "      <td>0.745410</td>\n",
              "    </tr>\n",
              "    <tr>\n",
              "      <th>1359</th>\n",
              "      <td>Aaron</td>\n",
              "      <td>0.9312</td>\n",
              "      <td>0.753289</td>\n",
              "      <td>0.944750</td>\n",
              "      <td>0.750004</td>\n",
              "    </tr>\n",
              "    <tr>\n",
              "      <th>536</th>\n",
              "      <td>Abner</td>\n",
              "      <td>0.9303</td>\n",
              "      <td>0.811075</td>\n",
              "      <td>0.906675</td>\n",
              "      <td>0.766518</td>\n",
              "    </tr>\n",
              "    <tr>\n",
              "      <th>3229</th>\n",
              "      <td>Abrasive Ale</td>\n",
              "      <td>0.9904</td>\n",
              "      <td>0.759005</td>\n",
              "      <td>0.920625</td>\n",
              "      <td>0.753117</td>\n",
              "    </tr>\n",
              "  </tbody>\n",
              "</table>\n",
              "</div>"
            ],
            "text/plain": [
              "                      product name  sentiment  ...  sentiment_avg  similarity_avg\n",
              "3538  3rd Anniversary Imperial IPA     0.9401  ...       0.940100        0.736674\n",
              "2379         A Deal With The Devil     0.9799  ...       0.979900        0.745410\n",
              "1359                         Aaron     0.9312  ...       0.944750        0.750004\n",
              "536                          Abner     0.9303  ...       0.906675        0.766518\n",
              "3229                  Abrasive Ale     0.9904  ...       0.920625        0.753117\n",
              "\n",
              "[5 rows x 5 columns]"
            ]
          },
          "metadata": {
            "tags": []
          },
          "execution_count": 68
        }
      ]
    },
    {
      "cell_type": "code",
      "metadata": {
        "id": "j5lJXd-qms4d",
        "colab_type": "code",
        "outputId": "c53cd8fd-f1fa-4e08-c523-b5572f7e4eb6",
        "colab": {
          "base_uri": "https://localhost:8080/",
          "height": 359
        }
      },
      "source": [
        "beerdf_final.where(beerdf_final['sentiment_avg']>0.8).sort_values(by=['similarity_avg', 'sentiment_avg'], ascending=False).head(10)"
      ],
      "execution_count": 0,
      "outputs": [
        {
          "output_type": "execute_result",
          "data": {
            "text/html": [
              "<div>\n",
              "<style scoped>\n",
              "    .dataframe tbody tr th:only-of-type {\n",
              "        vertical-align: middle;\n",
              "    }\n",
              "\n",
              "    .dataframe tbody tr th {\n",
              "        vertical-align: top;\n",
              "    }\n",
              "\n",
              "    .dataframe thead th {\n",
              "        text-align: right;\n",
              "    }\n",
              "</style>\n",
              "<table border=\"1\" class=\"dataframe\">\n",
              "  <thead>\n",
              "    <tr style=\"text-align: right;\">\n",
              "      <th></th>\n",
              "      <th>product name</th>\n",
              "      <th>sentiment</th>\n",
              "      <th>similarity</th>\n",
              "      <th>sentiment_avg</th>\n",
              "      <th>similarity_avg</th>\n",
              "    </tr>\n",
              "  </thead>\n",
              "  <tbody>\n",
              "    <tr>\n",
              "      <th>2063</th>\n",
              "      <td>Galaxy Dry Hopped Fort Point Pale Ale</td>\n",
              "      <td>0.9396</td>\n",
              "      <td>0.787919</td>\n",
              "      <td>0.939600</td>\n",
              "      <td>0.787919</td>\n",
              "    </tr>\n",
              "    <tr>\n",
              "      <th>1254</th>\n",
              "      <td>Framboise Du Fermier</td>\n",
              "      <td>0.9118</td>\n",
              "      <td>0.776859</td>\n",
              "      <td>0.911800</td>\n",
              "      <td>0.776859</td>\n",
              "    </tr>\n",
              "    <tr>\n",
              "      <th>1154</th>\n",
              "      <td>Cable Car</td>\n",
              "      <td>0.7906</td>\n",
              "      <td>0.774401</td>\n",
              "      <td>0.862350</td>\n",
              "      <td>0.772645</td>\n",
              "    </tr>\n",
              "    <tr>\n",
              "      <th>1450</th>\n",
              "      <td>Nectarine Premiere</td>\n",
              "      <td>0.8513</td>\n",
              "      <td>0.772397</td>\n",
              "      <td>0.851300</td>\n",
              "      <td>0.772397</td>\n",
              "    </tr>\n",
              "    <tr>\n",
              "      <th>2038</th>\n",
              "      <td>Flora Plum</td>\n",
              "      <td>0.8600</td>\n",
              "      <td>0.772479</td>\n",
              "      <td>0.871450</td>\n",
              "      <td>0.768436</td>\n",
              "    </tr>\n",
              "    <tr>\n",
              "      <th>536</th>\n",
              "      <td>Abner</td>\n",
              "      <td>0.9303</td>\n",
              "      <td>0.811075</td>\n",
              "      <td>0.906675</td>\n",
              "      <td>0.766518</td>\n",
              "    </tr>\n",
              "    <tr>\n",
              "      <th>2979</th>\n",
              "      <td>Pseudo Sue</td>\n",
              "      <td>0.9286</td>\n",
              "      <td>0.781681</td>\n",
              "      <td>0.951200</td>\n",
              "      <td>0.765275</td>\n",
              "    </tr>\n",
              "    <tr>\n",
              "      <th>2891</th>\n",
              "      <td>Great</td>\n",
              "      <td>0.9867</td>\n",
              "      <td>0.764486</td>\n",
              "      <td>0.986700</td>\n",
              "      <td>0.764486</td>\n",
              "    </tr>\n",
              "    <tr>\n",
              "      <th>4872</th>\n",
              "      <td>Black &amp; Wild</td>\n",
              "      <td>0.9871</td>\n",
              "      <td>0.763929</td>\n",
              "      <td>0.987100</td>\n",
              "      <td>0.763929</td>\n",
              "    </tr>\n",
              "    <tr>\n",
              "      <th>4389</th>\n",
              "      <td>Crusher</td>\n",
              "      <td>0.8173</td>\n",
              "      <td>0.749887</td>\n",
              "      <td>0.900167</td>\n",
              "      <td>0.763678</td>\n",
              "    </tr>\n",
              "  </tbody>\n",
              "</table>\n",
              "</div>"
            ],
            "text/plain": [
              "                               product name  ...  similarity_avg\n",
              "2063  Galaxy Dry Hopped Fort Point Pale Ale  ...        0.787919\n",
              "1254                   Framboise Du Fermier  ...        0.776859\n",
              "1154                              Cable Car  ...        0.772645\n",
              "1450                     Nectarine Premiere  ...        0.772397\n",
              "2038                             Flora Plum  ...        0.768436\n",
              "536                                   Abner  ...        0.766518\n",
              "2979                             Pseudo Sue  ...        0.765275\n",
              "2891                                  Great  ...        0.764486\n",
              "4872                           Black & Wild  ...        0.763929\n",
              "4389                                Crusher  ...        0.763678\n",
              "\n",
              "[10 rows x 5 columns]"
            ]
          },
          "metadata": {
            "tags": []
          },
          "execution_count": 59
        }
      ]
    },
    {
      "cell_type": "markdown",
      "metadata": {
        "id": "9RlFrKomrkc_",
        "colab_type": "text"
      },
      "source": [
        "**ANALYSIS:** Based on the reviews we analyzed, we would suggest Galaxy Dry Hopped Fort Point Pale Ale, Framboise Du Fermier, and Cable Car for someone who likes balanced, complex, and fruity beers. These three beers were the three highest similarity beers to the desired attributes with sentiment scores above .80. We added the last caveat because there were some beers that were high in similarity but had low sentiment scores."
      ]
    },
    {
      "cell_type": "markdown",
      "metadata": {
        "id": "ig96z3jmrf4G",
        "colab_type": "text"
      },
      "source": [
        "# Part F"
      ]
    },
    {
      "cell_type": "code",
      "metadata": {
        "id": "VbMYPzeYVlw1",
        "colab_type": "code",
        "colab": {}
      },
      "source": [
        "# beerdf.to_csv('beer_rating.csv', columns=['product name', 'user rating'], index=False, encoding='utf-8')"
      ],
      "execution_count": 0,
      "outputs": []
    },
    {
      "cell_type": "code",
      "metadata": {
        "id": "ai-8wj9rAkvm",
        "colab_type": "code",
        "colab": {}
      },
      "source": [
        "beerdf_userrating = pd.read_csv('beerreviews.csv')"
      ],
      "execution_count": 0,
      "outputs": []
    },
    {
      "cell_type": "code",
      "metadata": {
        "id": "MEe_6w-0orgB",
        "colab_type": "code",
        "colab": {}
      },
      "source": [
        "beerdf_userrating = beerdf_userrating[['product name', 'user rating']].rename(columns={\"product name\": \"productname\", \"user rating\": \"userrating\"})"
      ],
      "execution_count": 0,
      "outputs": []
    },
    {
      "cell_type": "code",
      "metadata": {
        "id": "IeOYQYY5pZ-L",
        "colab_type": "code",
        "outputId": "a618789a-2b57-41eb-eb4b-c17b54d4024c",
        "colab": {
          "base_uri": "https://localhost:8080/",
          "height": 204
        }
      },
      "source": [
        "beerdf_userrating.head()"
      ],
      "execution_count": 0,
      "outputs": [
        {
          "output_type": "execute_result",
          "data": {
            "text/html": [
              "<div>\n",
              "<style scoped>\n",
              "    .dataframe tbody tr th:only-of-type {\n",
              "        vertical-align: middle;\n",
              "    }\n",
              "\n",
              "    .dataframe tbody tr th {\n",
              "        vertical-align: top;\n",
              "    }\n",
              "\n",
              "    .dataframe thead th {\n",
              "        text-align: right;\n",
              "    }\n",
              "</style>\n",
              "<table border=\"1\" class=\"dataframe\">\n",
              "  <thead>\n",
              "    <tr style=\"text-align: right;\">\n",
              "      <th></th>\n",
              "      <th>productname</th>\n",
              "      <th>userrating</th>\n",
              "    </tr>\n",
              "  </thead>\n",
              "  <tbody>\n",
              "    <tr>\n",
              "      <th>0</th>\n",
              "      <td>Kentucky Brunch Brand Stout</td>\n",
              "      <td>4.80</td>\n",
              "    </tr>\n",
              "    <tr>\n",
              "      <th>1</th>\n",
              "      <td>Kentucky Brunch Brand Stout</td>\n",
              "      <td>4.74</td>\n",
              "    </tr>\n",
              "    <tr>\n",
              "      <th>2</th>\n",
              "      <td>Kentucky Brunch Brand Stout</td>\n",
              "      <td>4.68</td>\n",
              "    </tr>\n",
              "    <tr>\n",
              "      <th>3</th>\n",
              "      <td>Kentucky Brunch Brand Stout</td>\n",
              "      <td>5.00</td>\n",
              "    </tr>\n",
              "    <tr>\n",
              "      <th>4</th>\n",
              "      <td>Kentucky Brunch Brand Stout</td>\n",
              "      <td>4.97</td>\n",
              "    </tr>\n",
              "  </tbody>\n",
              "</table>\n",
              "</div>"
            ],
            "text/plain": [
              "                   productname  userrating\n",
              "0  Kentucky Brunch Brand Stout        4.80\n",
              "1  Kentucky Brunch Brand Stout        4.74\n",
              "2  Kentucky Brunch Brand Stout        4.68\n",
              "3  Kentucky Brunch Brand Stout        5.00\n",
              "4  Kentucky Brunch Brand Stout        4.97"
            ]
          },
          "metadata": {
            "tags": []
          },
          "execution_count": 45
        }
      ]
    },
    {
      "cell_type": "code",
      "metadata": {
        "id": "WphzMixOoyHN",
        "colab_type": "code",
        "colab": {}
      },
      "source": [
        "beerdf_userrating['user_rating_avg'] = beerdf_userrating.groupby(['productname']).userrating.transform('mean')"
      ],
      "execution_count": 0,
      "outputs": []
    },
    {
      "cell_type": "code",
      "metadata": {
        "id": "9zznpIpepeJV",
        "colab_type": "code",
        "outputId": "46a406ae-dba9-4c76-a4b2-7a59173f557b",
        "colab": {
          "base_uri": "https://localhost:8080/",
          "height": 204
        }
      },
      "source": [
        "beerdf_userrating.head()"
      ],
      "execution_count": 0,
      "outputs": [
        {
          "output_type": "execute_result",
          "data": {
            "text/html": [
              "<div>\n",
              "<style scoped>\n",
              "    .dataframe tbody tr th:only-of-type {\n",
              "        vertical-align: middle;\n",
              "    }\n",
              "\n",
              "    .dataframe tbody tr th {\n",
              "        vertical-align: top;\n",
              "    }\n",
              "\n",
              "    .dataframe thead th {\n",
              "        text-align: right;\n",
              "    }\n",
              "</style>\n",
              "<table border=\"1\" class=\"dataframe\">\n",
              "  <thead>\n",
              "    <tr style=\"text-align: right;\">\n",
              "      <th></th>\n",
              "      <th>productname</th>\n",
              "      <th>userrating</th>\n",
              "      <th>user_rating_avg</th>\n",
              "    </tr>\n",
              "  </thead>\n",
              "  <tbody>\n",
              "    <tr>\n",
              "      <th>0</th>\n",
              "      <td>Kentucky Brunch Brand Stout</td>\n",
              "      <td>4.80</td>\n",
              "      <td>4.812</td>\n",
              "    </tr>\n",
              "    <tr>\n",
              "      <th>1</th>\n",
              "      <td>Kentucky Brunch Brand Stout</td>\n",
              "      <td>4.74</td>\n",
              "      <td>4.812</td>\n",
              "    </tr>\n",
              "    <tr>\n",
              "      <th>2</th>\n",
              "      <td>Kentucky Brunch Brand Stout</td>\n",
              "      <td>4.68</td>\n",
              "      <td>4.812</td>\n",
              "    </tr>\n",
              "    <tr>\n",
              "      <th>3</th>\n",
              "      <td>Kentucky Brunch Brand Stout</td>\n",
              "      <td>5.00</td>\n",
              "      <td>4.812</td>\n",
              "    </tr>\n",
              "    <tr>\n",
              "      <th>4</th>\n",
              "      <td>Kentucky Brunch Brand Stout</td>\n",
              "      <td>4.97</td>\n",
              "      <td>4.812</td>\n",
              "    </tr>\n",
              "  </tbody>\n",
              "</table>\n",
              "</div>"
            ],
            "text/plain": [
              "                   productname  userrating  user_rating_avg\n",
              "0  Kentucky Brunch Brand Stout        4.80            4.812\n",
              "1  Kentucky Brunch Brand Stout        4.74            4.812\n",
              "2  Kentucky Brunch Brand Stout        4.68            4.812\n",
              "3  Kentucky Brunch Brand Stout        5.00            4.812\n",
              "4  Kentucky Brunch Brand Stout        4.97            4.812"
            ]
          },
          "metadata": {
            "tags": []
          },
          "execution_count": 47
        }
      ]
    },
    {
      "cell_type": "code",
      "metadata": {
        "id": "V-37GBvvphaN",
        "colab_type": "code",
        "colab": {}
      },
      "source": [
        "beerdf_userrating_final = beerdf_userrating.drop_duplicates(subset='productname', keep='first').sort_values(by=['user_rating_avg'], ascending=False).head(10)"
      ],
      "execution_count": 0,
      "outputs": []
    },
    {
      "cell_type": "code",
      "metadata": {
        "id": "NcCYD7KUp4qP",
        "colab_type": "code",
        "outputId": "6e227204-5e29-4983-d372-c775f5e2cdaa",
        "colab": {
          "base_uri": "https://localhost:8080/",
          "height": 359
        }
      },
      "source": [
        "beerdf_userrating_final"
      ],
      "execution_count": 0,
      "outputs": [
        {
          "output_type": "execute_result",
          "data": {
            "text/html": [
              "<div>\n",
              "<style scoped>\n",
              "    .dataframe tbody tr th:only-of-type {\n",
              "        vertical-align: middle;\n",
              "    }\n",
              "\n",
              "    .dataframe tbody tr th {\n",
              "        vertical-align: top;\n",
              "    }\n",
              "\n",
              "    .dataframe thead th {\n",
              "        text-align: right;\n",
              "    }\n",
              "</style>\n",
              "<table border=\"1\" class=\"dataframe\">\n",
              "  <thead>\n",
              "    <tr style=\"text-align: right;\">\n",
              "      <th></th>\n",
              "      <th>productname</th>\n",
              "      <th>userrating</th>\n",
              "      <th>user_rating_avg</th>\n",
              "    </tr>\n",
              "  </thead>\n",
              "  <tbody>\n",
              "    <tr>\n",
              "      <th>0</th>\n",
              "      <td>Kentucky Brunch Brand Stout</td>\n",
              "      <td>4.80</td>\n",
              "      <td>4.812000</td>\n",
              "    </tr>\n",
              "    <tr>\n",
              "      <th>1747</th>\n",
              "      <td>Chemtrailmix</td>\n",
              "      <td>5.00</td>\n",
              "      <td>4.811176</td>\n",
              "    </tr>\n",
              "    <tr>\n",
              "      <th>75</th>\n",
              "      <td>Barrel-Aged Abraxas</td>\n",
              "      <td>4.74</td>\n",
              "      <td>4.798000</td>\n",
              "    </tr>\n",
              "    <tr>\n",
              "      <th>225</th>\n",
              "      <td>King JJJuliusss</td>\n",
              "      <td>5.00</td>\n",
              "      <td>4.789600</td>\n",
              "    </tr>\n",
              "    <tr>\n",
              "      <th>2459</th>\n",
              "      <td>It Was All A Dream</td>\n",
              "      <td>4.66</td>\n",
              "      <td>4.785000</td>\n",
              "    </tr>\n",
              "    <tr>\n",
              "      <th>1300</th>\n",
              "      <td>Very GGGreennn</td>\n",
              "      <td>4.69</td>\n",
              "      <td>4.776818</td>\n",
              "    </tr>\n",
              "    <tr>\n",
              "      <th>475</th>\n",
              "      <td>Zenne Y Frontera</td>\n",
              "      <td>5.00</td>\n",
              "      <td>4.764000</td>\n",
              "    </tr>\n",
              "    <tr>\n",
              "      <th>675</th>\n",
              "      <td>Barrel Aged Imperial German Chocolate Cupcake ...</td>\n",
              "      <td>4.75</td>\n",
              "      <td>4.755600</td>\n",
              "    </tr>\n",
              "    <tr>\n",
              "      <th>275</th>\n",
              "      <td>SR-71</td>\n",
              "      <td>4.84</td>\n",
              "      <td>4.746400</td>\n",
              "    </tr>\n",
              "    <tr>\n",
              "      <th>1914</th>\n",
              "      <td>Anabasis</td>\n",
              "      <td>4.66</td>\n",
              "      <td>4.726000</td>\n",
              "    </tr>\n",
              "  </tbody>\n",
              "</table>\n",
              "</div>"
            ],
            "text/plain": [
              "                                            productname  ...  user_rating_avg\n",
              "0                           Kentucky Brunch Brand Stout  ...         4.812000\n",
              "1747                                       Chemtrailmix  ...         4.811176\n",
              "75                                  Barrel-Aged Abraxas  ...         4.798000\n",
              "225                                     King JJJuliusss  ...         4.789600\n",
              "2459                                 It Was All A Dream  ...         4.785000\n",
              "1300                                     Very GGGreennn  ...         4.776818\n",
              "475                                    Zenne Y Frontera  ...         4.764000\n",
              "675   Barrel Aged Imperial German Chocolate Cupcake ...  ...         4.755600\n",
              "275                                               SR-71  ...         4.746400\n",
              "1914                                           Anabasis  ...         4.726000\n",
              "\n",
              "[10 rows x 3 columns]"
            ]
          },
          "metadata": {
            "tags": []
          },
          "execution_count": 62
        }
      ]
    },
    {
      "cell_type": "markdown",
      "metadata": {
        "id": "V5vSkEs4s_0i",
        "colab_type": "text"
      },
      "source": [
        "**ANALYSIS:** Based only on average rating, we would recommend Kentucky Brunch Brand Stout, Chemtrailmix, and Barrel-Aged Abraxas. Of those three, only one of them is even in the top 300 of similarity with the user's requirements, Barrel-Aged Abraxas. This beer has an average sentiment of 0.93245\tand an average similarity of 0.749086. The others have similarity that we consider too low to meet the requirements. In fact, none of the top 10 in the entire dataset match any of the top 10 from part E."
      ]
    }
  ]
}